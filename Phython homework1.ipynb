{
 "cells": [
  {
   "cell_type": "markdown",
   "id": "2c31ceb0",
   "metadata": {},
   "source": [
    "#### Pyhton Homework 1"
   ]
  },
  {
   "cell_type": "markdown",
   "id": "b13df0b1",
   "metadata": {},
   "source": [
    "#### Exercise #1"
   ]
  },
  {
   "cell_type": "markdown",
   "id": "48dfca9a",
   "metadata": {},
   "source": [
    "#### Cube Number Test... Print out all cubed numbers up to the total value 1000, so if the cubed number is over 1000 break the loop."
   ]
  },
  {
   "cell_type": "code",
   "execution_count": 66,
   "id": "ec6d17fb",
   "metadata": {},
   "outputs": [
    {
     "name": "stdout",
     "output_type": "stream",
     "text": [
      "1 8 27 64 125 216 343 512 729 1000 1000\n"
     ]
    }
   ],
   "source": [
    "\n",
    "for number in range(1,11):\n",
    "    \n",
    "    cubes=number**3\n",
    "   \n",
    "    print(cubes, end=\" \")\n",
    "print(cubes)"
   ]
  },
  {
   "cell_type": "markdown",
   "id": "555c27f7",
   "metadata": {},
   "source": [
    "#### Exercise #2\n",
    "Get first prime numbers up to 100"
   ]
  },
  {
   "cell_type": "code",
   "execution_count": 80,
   "id": "bda07f6d",
   "metadata": {},
   "outputs": [
    {
     "name": "stdout",
     "output_type": "stream",
     "text": [
      "2 3 5 7 11 13 17 19 23 29 31 37 41 43 47 53 59 61 67 71 73 79 83 89 97 "
     ]
    }
   ],
   "source": [
    "for prime in range(1,100):\n",
    "    counter = 0\n",
    "    for number in range(1, prime+1):\n",
    "        if prime % number==0:\n",
    "            counter=counter+1\n",
    "    if(counter==2):\n",
    "            print(number, end=\" \")\n",
    "\n",
    "\n"
   ]
  },
  {
   "cell_type": "code",
   "execution_count": 83,
   "id": "9f24739f",
   "metadata": {},
   "outputs": [
    {
     "data": {
      "text/plain": [
       "range(1, 10)"
      ]
     },
     "execution_count": 83,
     "metadata": {},
     "output_type": "execute_result"
    }
   ],
   "source": [
    "range(1,10)"
   ]
  },
  {
   "cell_type": "markdown",
   "id": "d4a280f2",
   "metadata": {},
   "source": [
    "#### Exercise #3"
   ]
  },
  {
   "cell_type": "markdown",
   "id": "76c16ba6",
   "metadata": {},
   "source": [
    "#### Take in a users input for their age, if they are younger than 18 print kids, if they're 18 to 65 print adults, else print seniors"
   ]
  },
  {
   "cell_type": "code",
   "execution_count": 68,
   "id": "97d5e87a",
   "metadata": {},
   "outputs": [
    {
     "name": "stdout",
     "output_type": "stream",
     "text": [
      "Please enter your age here: 78\n",
      "seniors\n"
     ]
    }
   ],
   "source": [
    "age = int(input(\"Please enter your age here: \"))\n",
    "if age < 18:\n",
    "    print(\"kids\")\n",
    "elif age <= 65:\n",
    "    print(\"adults\")\n",
    "    \n",
    "else:\n",
    "    print(\"seniors\")\n",
    "        "
   ]
  }
 ],
 "metadata": {
  "kernelspec": {
   "display_name": "Python 3 (ipykernel)",
   "language": "python",
   "name": "python3"
  },
  "language_info": {
   "codemirror_mode": {
    "name": "ipython",
    "version": 3
   },
   "file_extension": ".py",
   "mimetype": "text/x-python",
   "name": "python",
   "nbconvert_exporter": "python",
   "pygments_lexer": "ipython3",
   "version": "3.9.7"
  }
 },
 "nbformat": 4,
 "nbformat_minor": 5
}
